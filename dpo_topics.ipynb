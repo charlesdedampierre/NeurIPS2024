{
 "cells": [
  {
   "cell_type": "code",
   "execution_count": 10,
   "metadata": {},
   "outputs": [],
   "source": [
    "import pandas as pd\n",
    "from datasets import Dataset, load_dataset\n",
    "\n",
    "\n",
    "dataset = load_dataset(\"mlabonne/chatml_dpo_pairs\")['train']\n",
    "df = dataset.to_pandas()\n",
    "df['doc_id'] = df.index\n",
    "\n",
    "df.to_csv('results/training-datasets/all_data.csv')\n",
    "\n",
    "df_sample = df.sample(2000, random_state=42)\n",
    "df_sample.to_csv('results/training-datasets/sample.csv')\n",
    "\n",
    "ids = list(df['doc_id'].astype(str))\n",
    "docs_accepted = list(df['chosen'])\n",
    "docs_rejected = list(df['rejected'])"
   ]
  },
  {
   "cell_type": "code",
   "execution_count": null,
   "metadata": {},
   "outputs": [],
   "source": [
    "\n",
    "# topic modeling on chosen and on rejected. Then find the non-common topics and create 4 datasets\n",
    "# original one\n",
    "# one in favor of ChatGPT\n",
    "# one in favor of LLma\n",
    "\n",
    "\n",
    "from bunkatopics import Bunka\n",
    "from langchain_community.embeddings import HuggingFaceEmbeddings\n",
    "import os\n",
    "import pandas as pd\n",
    "from sklearn.cluster import KMeans\n",
    "\n",
    "clustering_method = KMeans(n_clusters=30, random_state=42)"
   ]
  },
  {
   "cell_type": "code",
   "execution_count": null,
   "metadata": {},
   "outputs": [],
   "source": [
    "#models = [\"sentence-transformers/distiluse-base-multilingual-cased-v2\", \"sentence-transformers/paraphrase-multilingual-mpnet-base-v2\"]\n",
    "model_name = \"WhereIsAI/UAE-Large-V1\"\n",
    "\n",
    "embedding_model = HuggingFaceEmbeddings(model_name=model_name,# We recommend starting with a small model\n",
    "                                        model_kwargs={\"device\": \"cuda\"}, # Or cuda if you have GPU\n",
    "                                        #encode_kwargs={\"show_progress_bar\": True}, # Show the progress of embeddings\n",
    "                                        multi_process=False)  # set to True if you have mutliprocessing\n",
    "\n",
    "bunka = Bunka(embedding_model=embedding_model, language='english') # You can choose any language you prefer\n"
   ]
  },
  {
   "cell_type": "code",
   "execution_count": null,
   "metadata": {},
   "outputs": [],
   "source": [
    "\n",
    "bunka.fit(docs = docs_accepted, ids = ids)\n",
    "df_topics = bunka.get_topics(n_clusters=25, \n",
    "                            name_length=10, \n",
    "                            min_count_terms = 20, \n",
    "                            top_terms_overall = 1000000,\n",
    "                            max_doc_per_topic = 2000,\n",
    "                            min_docs_per_cluster = 1000,\n",
    "                            ranking_terms = 15,\n",
    "                            ngrams = [1,2],\n",
    "                            custom_clustering_model = clustering_method\n",
    "                            ) # Specify the number of terms to describe each topic\n",
    "\n",
    "\n",
    "\n",
    "df_topics.to_csv('results/df_topics_accepted.csv')\n",
    "\n",
    "\n",
    "fig = bunka.visualize_topics(width=1200, height=1200, colorscale='Portland', density = True,label_size_ratio = 120, convex_hull = True, show_text=True)\n",
    "import plotly.offline as offline\n",
    "\n",
    "\n",
    "# df_topics = bunka.get_topics(n_clusters=25, \n",
    "#                             name_length=10, \n",
    "#                             min_count_terms = 20, \n",
    "#                             top_terms_overall = 1000000,\n",
    "#                             max_doc_per_topic = 2000,\n",
    "#                             min_docs_per_cluster = 1000,\n",
    "#                             ranking_terms = 15,\n",
    "#                             ngrams = [1,2],\n",
    "#                             custom_clustering_model = clustering_method\n",
    "#                             ) # Specify the number of terms to describe each topic\n",
    "\n",
    "\n",
    "# Save the Plotly figure to an HTML file\n",
    "offline.plot(fig, filename='results/map_accepted_topics.html', auto_open=False)"
   ]
  },
  {
   "cell_type": "code",
   "execution_count": null,
   "metadata": {},
   "outputs": [],
   "source": [
    "bunka_bis = Bunka(embedding_model=embedding_model, language='english') # You can choose any language you prefer\n",
    "\n",
    "bunka_bis.fit(docs = docs_rejected, ids = ids)\n",
    "df_topics_bis = bunka_bis.get_topics(n_clusters=25, \n",
    "                            name_length=10, \n",
    "                            min_count_terms = 20, \n",
    "                            top_terms_overall = 1000000,\n",
    "                            max_doc_per_topic = 2000,\n",
    "                            min_docs_per_cluster = 1000,\n",
    "                            ranking_terms = 15,\n",
    "                            ngrams = [1,2],\n",
    "                            custom_clustering_model = clustering_method\n",
    "                            ) # Specify the number of terms to describe each topic\n",
    "\n",
    "\n",
    "df_topics_bis.to_csv('results/df_topics_rejected.csv')\n",
    "\n",
    "# df_topics_bis = bunka_bis.get_topics(n_clusters=25, \n",
    "#                             name_length=10, \n",
    "#                             min_count_terms = 20, \n",
    "#                             top_terms_overall = 1000000,\n",
    "#                             max_doc_per_topic = 2000,\n",
    "#                             min_docs_per_cluster = 1000,\n",
    "#                             ranking_terms = 15,\n",
    "#                             ngrams = [1,2],\n",
    "#                             custom_clustering_model = clustering_method\n",
    "#                             ) # Specify the number of terms to describe each topic\n",
    "fig = bunka_bis.visualize_topics(width=1200, height=1200, colorscale='Portland', density = True,label_size_ratio = 120, convex_hull = True, show_text=True)\n",
    "\n",
    "# Save the Plotly figure to an HTML file\n",
    "offline.plot(fig, filename='results/map_rejected_topics.html', auto_open=False)\n"
   ]
  },
  {
   "cell_type": "markdown",
   "metadata": {},
   "source": []
  }
 ],
 "metadata": {
  "kernelspec": {
   "display_name": ".venv",
   "language": "python",
   "name": "python3"
  },
  "language_info": {
   "codemirror_mode": {
    "name": "ipython",
    "version": 3
   },
   "file_extension": ".py",
   "mimetype": "text/x-python",
   "name": "python",
   "nbconvert_exporter": "python",
   "pygments_lexer": "ipython3",
   "version": "3.10.12"
  }
 },
 "nbformat": 4,
 "nbformat_minor": 2
}

{
 "cells": [
  {
   "cell_type": "code",
   "execution_count": 11,
   "metadata": {},
   "outputs": [],
   "source": [
    "import pandas as pd\n",
    "\n",
    "\n",
    "df_accepted = pd.read_csv('results/df_topics_accepted.csv', index_col=[0])\n",
    "df_accepted = df_accepted.dropna()\n",
    "df_rejected = pd.read_csv('results/df_topics_rejected.csv', index_col=[0])\n",
    "\n",
    "# Function to extract terms from topic_name and find overlaps\n",
    "def find_overlapping_topics(df1, df2, min_common_terms=2):\n",
    "    # Extracting terms from the topic names\n",
    "    df1['terms'] = df1['topic_name'].apply(lambda x: set(x.split(' | ')))\n",
    "    df2['terms'] = df2['topic_name'].apply(lambda x: set(x.split(' | ')))\n",
    "\n",
    "    overlapping_topics = []\n",
    "\n",
    "    for i, row1 in df1.iterrows():\n",
    "        for j, row2 in df2.iterrows():\n",
    "            common_terms = row1['terms'].intersection(row2['terms'])\n",
    "            if len(common_terms) >= min_common_terms:\n",
    "                overlapping_topics.append((row1['topic_id'], row2['topic_id']))\n",
    "\n",
    "    return overlapping_topics\n",
    "\n",
    "# Finding overlapping topics\n",
    "overlapping_topics = find_overlapping_topics(df_accepted, df_rejected)\n",
    "df_overlapping = pd.DataFrame(overlapping_topics, columns = ['accepted', 'rejected'])\n",
    "df_overlapping\n",
    "\n",
    "\n",
    "df_accepted_filter = df_accepted[~df_accepted['topic_id'].isin(list(df_overlapping['accepted']))]\n",
    "df_rejected_filter = df_rejected[~df_rejected['topic_id'].isin(list(df_overlapping['rejected']))]\n",
    "\n"
   ]
  },
  {
   "cell_type": "code",
   "execution_count": null,
   "metadata": {},
   "outputs": [],
   "source": []
  },
  {
   "cell_type": "code",
   "execution_count": 25,
   "metadata": {},
   "outputs": [],
   "source": []
  }
 ],
 "metadata": {
  "kernelspec": {
   "display_name": ".venv",
   "language": "python",
   "name": "python3"
  },
  "language_info": {
   "codemirror_mode": {
    "name": "ipython",
    "version": 3
   },
   "file_extension": ".py",
   "mimetype": "text/x-python",
   "name": "python",
   "nbconvert_exporter": "python",
   "pygments_lexer": "ipython3",
   "version": "3.10.12"
  }
 },
 "nbformat": 4,
 "nbformat_minor": 2
}
